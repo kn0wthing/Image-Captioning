{
  "nbformat": 4,
  "nbformat_minor": 0,
  "metadata": {
    "anaconda-cloud": {},
    "kernelspec": {
      "display_name": "Python 3",
      "language": "python",
      "name": "python3"
    },
    "language_info": {
      "codemirror_mode": {
        "name": "ipython",
        "version": 3
      },
      "file_extension": ".py",
      "mimetype": "text/x-python",
      "name": "python",
      "nbconvert_exporter": "python",
      "pygments_lexer": "ipython3",
      "version": "3.6.8"
    },
    "colab": {
      "name": "Image_Captioning.ipynb",
      "provenance": [],
      "collapsed_sections": [],
      "include_colab_link": true
    },
    "accelerator": "GPU"
  },
  "cells": [
    {
      "cell_type": "markdown",
      "metadata": {
        "id": "view-in-github",
        "colab_type": "text"
      },
      "source": [
        "<a href=\"https://colab.research.google.com/github/kn0wthing/Image-Captioning/blob/main/Image_Captioning.ipynb\" target=\"_parent\"><img src=\"https://colab.research.google.com/assets/colab-badge.svg\" alt=\"Open In Colab\"/></a>"
      ]
    },
    {
      "cell_type": "code",
      "metadata": {
        "colab": {
          "base_uri": "https://localhost:8080/"
        },
        "id": "SQXPuK9tXp8f",
        "outputId": "12b174b4-661e-49c5-b8fa-7b8321abec6c"
      },
      "source": [
        "!pip install cache"
      ],
      "execution_count": 20,
      "outputs": [
        {
          "output_type": "stream",
          "name": "stdout",
          "text": [
            "Requirement already satisfied: cache in /usr/local/lib/python3.7/dist-packages (1.0.3)\n"
          ]
        }
      ]
    },
    {
      "cell_type": "code",
      "metadata": {
        "id": "BXKxW2BHVrj9"
      },
      "source": [
        "%matplotlib inline\n",
        "import matplotlib.pyplot as plt\n",
        "# import keras\n",
        "import tensorflow as tf\n",
        "import numpy as np\n",
        "import os\n",
        "from PIL import Image\n",
        "import cache"
      ],
      "execution_count": 5,
      "outputs": []
    },
    {
      "cell_type": "code",
      "metadata": {
        "id": "vmz2zVoHVrkD"
      },
      "source": [
        "from tensorflow.keras.models import Model, Sequential\n",
        "from tensorflow.keras.layers import Dense, Flatten, Dropout\n",
        "from tensorflow.keras.applications import VGG16\n",
        "from tensorflow.keras.applications.vgg16 import preprocess_input, decode_predictions\n",
        "from tensorflow.keras.preprocessing.image import ImageDataGenerator\n",
        "from tensorflow.keras.optimizers import Adam, RMSprop"
      ],
      "execution_count": 2,
      "outputs": []
    },
    {
      "cell_type": "markdown",
      "metadata": {
        "id": "favZG-5lVrkF"
      },
      "source": [
        "This was developed using Python 3.6 (Anaconda) and package versions:"
      ]
    },
    {
      "cell_type": "code",
      "metadata": {
        "scrolled": false,
        "colab": {
          "base_uri": "https://localhost:8080/",
          "height": 35
        },
        "id": "O4q8A8T4VrkG",
        "outputId": "c33d5d82-775a-429d-f897-9aaa8089791c"
      },
      "source": [
        "tf.__version__"
      ],
      "execution_count": 6,
      "outputs": [
        {
          "output_type": "execute_result",
          "data": {
            "application/vnd.google.colaboratory.intrinsic+json": {
              "type": "string"
            },
            "text/plain": [
              "'2.6.0'"
            ]
          },
          "metadata": {},
          "execution_count": 6
        }
      ]
    },
    {
      "cell_type": "code",
      "metadata": {
        "scrolled": true,
        "colab": {
          "base_uri": "https://localhost:8080/",
          "height": 35
        },
        "id": "GpHM90fpVrkI",
        "outputId": "dd01ae22-c312-4568-90c1-2ff7959c0648"
      },
      "source": [
        "tf.keras.__version__"
      ],
      "execution_count": 7,
      "outputs": [
        {
          "output_type": "execute_result",
          "data": {
            "application/vnd.google.colaboratory.intrinsic+json": {
              "type": "string"
            },
            "text/plain": [
              "'2.6.0'"
            ]
          },
          "metadata": {},
          "execution_count": 7
        }
      ]
    },
    {
      "cell_type": "markdown",
      "metadata": {
        "id": "i6djxI4YVrkK"
      },
      "source": [
        "## Load Data\n",
        "\n",
        "We will use the COCO data-set which contains many images with text-captions.\n",
        "\n",
        "http://cocodataset.org"
      ]
    },
    {
      "cell_type": "code",
      "metadata": {
        "colab": {
          "base_uri": "https://localhost:8080/"
        },
        "id": "xfvqyT2qa5mC",
        "outputId": "4e656274-759f-48e3-e601-cca9e1474b37"
      },
      "source": [
        "!pip install download"
      ],
      "execution_count": 18,
      "outputs": [
        {
          "output_type": "stream",
          "name": "stdout",
          "text": [
            "Collecting download\n",
            "  Downloading download-0.3.5-py3-none-any.whl (8.8 kB)\n",
            "Requirement already satisfied: requests in /usr/local/lib/python3.7/dist-packages (from download) (2.23.0)\n",
            "Requirement already satisfied: tqdm in /usr/local/lib/python3.7/dist-packages (from download) (4.62.3)\n",
            "Requirement already satisfied: six in /usr/local/lib/python3.7/dist-packages (from download) (1.15.0)\n",
            "Requirement already satisfied: chardet<4,>=3.0.2 in /usr/local/lib/python3.7/dist-packages (from requests->download) (3.0.4)\n",
            "Requirement already satisfied: urllib3!=1.25.0,!=1.25.1,<1.26,>=1.21.1 in /usr/local/lib/python3.7/dist-packages (from requests->download) (1.24.3)\n",
            "Requirement already satisfied: idna<3,>=2.5 in /usr/local/lib/python3.7/dist-packages (from requests->download) (2.10)\n",
            "Requirement already satisfied: certifi>=2017.4.17 in /usr/local/lib/python3.7/dist-packages (from requests->download) (2021.5.30)\n",
            "Installing collected packages: download\n",
            "Successfully installed download-0.3.5\n"
          ]
        }
      ]
    },
    {
      "cell_type": "code",
      "metadata": {
        "id": "Aew8p7xHVrkK"
      },
      "source": [
        "import json\n",
        "import os\n",
        "import sys\n",
        "import os\n",
        "import urllib.request\n",
        "import tarfile\n",
        "import zipfile"
      ],
      "execution_count": 27,
      "outputs": []
    },
    {
      "cell_type": "code",
      "metadata": {
        "id": "9KXjLUAFctSM"
      },
      "source": [
        "data_dir = \"data/coco/\"\n",
        "\n",
        "train_dir = \"data/coco/train2017\"\n",
        "val_dir = \"data/coco/val2017\"\n",
        "\n",
        "data_url = \"http://images.cocodataset.org/\"\n"
      ],
      "execution_count": 22,
      "outputs": []
    },
    {
      "cell_type": "code",
      "metadata": {
        "id": "E8eMTIYPc__G"
      },
      "source": [
        "def set_data_dir(new_data_dir):\n",
        "    global data_dir, train_dir, val_dir\n",
        "\n",
        "    data_dir = new_data_dir\n",
        "    train_dir = os.path.join(new_data_dir, \"train2017\")\n",
        "    val_dir = os.path.join(new_data_dir, \"val2017\")\n"
      ],
      "execution_count": 23,
      "outputs": []
    },
    {
      "cell_type": "code",
      "metadata": {
        "id": "2Sq_fzDFdlM_"
      },
      "source": [
        "def download_and_extract(url, download_dir):\n",
        "   \n",
        "    filename = url.split('/')[-1]\n",
        "    file_path = os.path.join(download_dir, filename)\n",
        "\n",
        "    if not os.path.exists(file_path):\n",
        "        if not os.path.exists(download_dir):\n",
        "            os.makedirs(download_dir)\n",
        "\n",
        "        file_path, _ = urllib.request.urlretrieve(url=url,\n",
        "                                                  filename=file_path,\n",
        "                                                  )\n",
        "\n",
        "        print()\n",
        "        print(\"Download finished. Extracting files.\")\n",
        "\n",
        "        if file_path.endswith(\".zip\"):\n",
        "            zipfile.ZipFile(file=file_path, mode=\"r\").extractall(download_dir)\n",
        "        elif file_path.endswith((\".tar.gz\", \".tgz\")):\n",
        "            tarfile.open(name=file_path, mode=\"r:gz\").extractall(download_dir)\n",
        "\n",
        "        print(\"Done.\")\n",
        "    else:\n",
        "        print(\"Data has apparently already been downloaded and unpacked.\")"
      ],
      "execution_count": 31,
      "outputs": []
    },
    {
      "cell_type": "code",
      "metadata": {
        "id": "e9jvpN7Nc_64"
      },
      "source": [
        "def dae():\n",
        "    filenames = [\"zips/train2017.zip\", \"zips/val2017.zip\",\n",
        "                 \"annotations/annotations_trainval2017.zip\"]\n",
        "\n",
        "    for filename in filenames:\n",
        "        url = data_url + filename\n",
        "\n",
        "        print(\"Downloading \" + url)\n",
        "\n",
        "        download_and_extract(url=url, download_dir=data_dir)\n",
        "        \n",
        "\n"
      ],
      "execution_count": 32,
      "outputs": []
    },
    {
      "cell_type": "code",
      "metadata": {
        "id": "RFeFKhLIfsan"
      },
      "source": [
        "def load_records(train=True):\n",
        "\n",
        "    if train:\n",
        "        filename = \"captions_train2017.json\"\n",
        "    else:\n",
        "        filename = \"captions_val2017.json\"\n",
        "\n",
        "    path = os.path.join(data_dir, \"annotations\", filename)\n",
        "\n",
        "    with open(path, \"r\", encoding=\"utf-8\") as file:\n",
        "        data_raw = json.load(file)\n",
        "\n",
        "    images = data_raw['images']\n",
        "    annotations = data_raw['annotations']\n",
        "\n",
        "    records = dict()\n",
        "\n",
        "    for image in images:\n",
        "        image_id = image['id']\n",
        "        filename = image['file_name']\n",
        "\n",
        "        record = dict()\n",
        "\n",
        "        record['filename'] = filename\n",
        "\n",
        "        record['captions'] = list()\n",
        "\n",
        "        records[image_id] = record\n",
        "\n",
        "    for ann in annotations:\n",
        "        image_id = ann['image_id']\n",
        "        caption = ann['caption']\n",
        "        record = records[image_id]\n",
        "        record['captions'].append(caption)\n",
        "\n",
        "    records_list = [(key, record['filename'], record['captions'])\n",
        "                    for key, record in sorted(records.items())]\n",
        "\n",
        "    ids, filenames, captions = zip(*records_list)\n",
        "\n",
        "    return ids, filenames, captions"
      ],
      "execution_count": 34,
      "outputs": []
    },
    {
      "cell_type": "code",
      "metadata": {
        "id": "4DSPPQ6eVrkM"
      },
      "source": [
        "set_data_dir(\"data/coco/\")"
      ],
      "execution_count": 25,
      "outputs": []
    },
    {
      "cell_type": "code",
      "metadata": {
        "id": "jQKRpdEaVrkO"
      },
      "source": [
        "dae()"
      ],
      "execution_count": null,
      "outputs": []
    },
    {
      "cell_type": "code",
      "metadata": {
        "id": "DXBR2gHDVrkR"
      },
      "source": [
        "_, filenames_train, captions_train = load_records(train=True)"
      ],
      "execution_count": null,
      "outputs": []
    },
    {
      "cell_type": "code",
      "metadata": {
        "id": "bKzO6mmHVrkY",
        "outputId": "9a1a55b1-5c8b-4030-e51c-b71dccdfa851"
      },
      "source": [
        "num_images_train = len(filenames_train)\n",
        "num_images_train"
      ],
      "execution_count": null,
      "outputs": [
        {
          "data": {
            "text/plain": [
              "118287"
            ]
          },
          "execution_count": 9,
          "metadata": {},
          "output_type": "execute_result"
        }
      ]
    },
    {
      "cell_type": "code",
      "metadata": {
        "id": "h21Sc4kbVrka",
        "outputId": "34a58e98-6586-4b21-8e17-19113f8372a2"
      },
      "source": [
        "_, filenames_val, captions_val = coco.load_records(train=False)"
      ],
      "execution_count": null,
      "outputs": [
        {
          "name": "stdout",
          "output_type": "stream",
          "text": [
            "- Data loaded from cache-file: data/coco/records_val.pkl\n"
          ]
        }
      ]
    },
    {
      "cell_type": "code",
      "metadata": {
        "id": "Tgqui9Y4Vrkb"
      },
      "source": [
        "def load_image(path, size=None):\n",
        "    img = Image.open(path)\n",
        "\n",
        "    if not size is None:\n",
        "        img = img.resize(size=size, resample=Image.LANCZOS)\n",
        "\n",
        "    img = np.array(img)\n",
        "    img = img / 255.0\n",
        "\n",
        "    if (len(img.shape) == 2):\n",
        "        img = np.repeat(img[:, :, np.newaxis], 3, axis=2)\n",
        "    return img"
      ],
      "execution_count": null,
      "outputs": []
    },
    {
      "cell_type": "code",
      "metadata": {
        "id": "_WBenRPsVrkc"
      },
      "source": [
        "def show_image(idx, train):\n",
        "\n",
        "    if train:\n",
        "        dir = coco.train_dir\n",
        "        filename = filenames_train[idx]\n",
        "        captions = captions_train[idx]\n",
        "    else:\n",
        "        dir = coco.val_dir\n",
        "        filename = filenames_val[idx]\n",
        "        captions = captions_val[idx]\n",
        "\n",
        "    path = os.path.join(dir, filename)\n",
        "\n",
        "    for caption in captions:\n",
        "        print(caption)\n",
        "    \n",
        "    img = load_image(path)\n",
        "    plt.imshow(img)\n",
        "    plt.show()"
      ],
      "execution_count": null,
      "outputs": []
    },
    {
      "cell_type": "code",
      "metadata": {
        "scrolled": true,
        "id": "wWgH7Dv8Vrkf",
        "outputId": "aa4319f9-2251-4702-8ebc-fe3ab49e5aa1"
      },
      "source": [
        "show_image(idx=1, train=True)"
      ],
      "execution_count": null,
      "outputs": [
        {
          "name": "stdout",
          "output_type": "stream",
          "text": [
            "A giraffe eating food from the top of the tree.\n",
            "A giraffe standing up nearby a tree \n",
            "A giraffe mother with its baby in the forest.\n",
            "Two giraffes standing in a tree filled area.\n",
            "A giraffe standing next to a forest filled with trees.\n"
          ]
        },
        {
          "data": {
            "image/png": "[encoded data removed]",
            "text/plain": [
              "<matplotlib.figure.Figure at 0x7fcaee67ed30>"
            ]
          },
          "metadata": {},
          "output_type": "display_data"
        }
      ]
    },
    {
      "cell_type": "code",
      "metadata": {
        "id": "hbEdnvhyVrkg"
      },
      "source": [
        "image_model = VGG16(include_top=True, weights='imagenet')"
      ],
      "execution_count": null,
      "outputs": []
    },
    {
      "cell_type": "code",
      "metadata": {
        "id": "HmaRh6M8Vrkh",
        "outputId": "51c80268-e88e-473d-dc05-30532f1e2cf8"
      },
      "source": [
        "image_model.summary()"
      ],
      "execution_count": null,
      "outputs": [
        {
          "name": "stdout",
          "output_type": "stream",
          "text": [
            "_________________________________________________________________\n",
            "Layer (type)                 Output Shape              Param #   \n",
            "=================================================================\n",
            "input_1 (InputLayer)         (None, 224, 224, 3)       0         \n",
            "_________________________________________________________________\n",
            "block1_conv1 (Conv2D)        (None, 224, 224, 64)      1792      \n",
            "_________________________________________________________________\n",
            "block1_conv2 (Conv2D)        (None, 224, 224, 64)      36928     \n",
            "_________________________________________________________________\n",
            "block1_pool (MaxPooling2D)   (None, 112, 112, 64)      0         \n",
            "_________________________________________________________________\n",
            "block2_conv1 (Conv2D)        (None, 112, 112, 128)     73856     \n",
            "_________________________________________________________________\n",
            "block2_conv2 (Conv2D)        (None, 112, 112, 128)     147584    \n",
            "_________________________________________________________________\n",
            "block2_pool (MaxPooling2D)   (None, 56, 56, 128)       0         \n",
            "_________________________________________________________________\n",
            "block3_conv1 (Conv2D)        (None, 56, 56, 256)       295168    \n",
            "_________________________________________________________________\n",
            "block3_conv2 (Conv2D)        (None, 56, 56, 256)       590080    \n",
            "_________________________________________________________________\n",
            "block3_conv3 (Conv2D)        (None, 56, 56, 256)       590080    \n",
            "_________________________________________________________________\n",
            "block3_pool (MaxPooling2D)   (None, 28, 28, 256)       0         \n",
            "_________________________________________________________________\n",
            "block4_conv1 (Conv2D)        (None, 28, 28, 512)       1180160   \n",
            "_________________________________________________________________\n",
            "block4_conv2 (Conv2D)        (None, 28, 28, 512)       2359808   \n",
            "_________________________________________________________________\n",
            "block4_conv3 (Conv2D)        (None, 28, 28, 512)       2359808   \n",
            "_________________________________________________________________\n",
            "block4_pool (MaxPooling2D)   (None, 14, 14, 512)       0         \n",
            "_________________________________________________________________\n",
            "block5_conv1 (Conv2D)        (None, 14, 14, 512)       2359808   \n",
            "_________________________________________________________________\n",
            "block5_conv2 (Conv2D)        (None, 14, 14, 512)       2359808   \n",
            "_________________________________________________________________\n",
            "block5_conv3 (Conv2D)        (None, 14, 14, 512)       2359808   \n",
            "_________________________________________________________________\n",
            "block5_pool (MaxPooling2D)   (None, 7, 7, 512)         0         \n",
            "_________________________________________________________________\n",
            "flatten (Flatten)            (None, 25088)             0         \n",
            "_________________________________________________________________\n",
            "fc1 (Dense)                  (None, 4096)              102764544 \n",
            "_________________________________________________________________\n",
            "fc2 (Dense)                  (None, 4096)              16781312  \n",
            "_________________________________________________________________\n",
            "predictions (Dense)          (None, 1000)              4097000   \n",
            "=================================================================\n",
            "Total params: 138,357,544\n",
            "Trainable params: 138,357,544\n",
            "Non-trainable params: 0\n",
            "_________________________________________________________________\n"
          ]
        }
      ]
    },
    {
      "cell_type": "code",
      "metadata": {
        "id": "YtIg074ZVrki"
      },
      "source": [
        "transfer_layer = image_model.get_layer('fc2')"
      ],
      "execution_count": null,
      "outputs": []
    },
    {
      "cell_type": "code",
      "metadata": {
        "id": "nacR36kuVrkj"
      },
      "source": [
        "image_model_transfer = Model(inputs=image_model.input,\n",
        "                             outputs=transfer_layer.output)"
      ],
      "execution_count": null,
      "outputs": []
    },
    {
      "cell_type": "code",
      "metadata": {
        "id": "Fu3FEGWRVrkn",
        "outputId": "69221950-9778-4c75-8531-3033efca2566"
      },
      "source": [
        "img_size = K.int_shape(image_model.input)[1:3]\n",
        "img_size"
      ],
      "execution_count": null,
      "outputs": [
        {
          "data": {
            "text/plain": [
              "(224, 224)"
            ]
          },
          "execution_count": 18,
          "metadata": {},
          "output_type": "execute_result"
        }
      ]
    },
    {
      "cell_type": "code",
      "metadata": {
        "id": "98w2JjFMVrko",
        "outputId": "4b4958fe-957d-4a3c-c59a-8977c966cebb"
      },
      "source": [
        "transfer_values_size = K.int_shape(transfer_layer.output)[1]\n",
        "transfer_values_size"
      ],
      "execution_count": null,
      "outputs": [
        {
          "data": {
            "text/plain": [
              "4096"
            ]
          },
          "execution_count": 19,
          "metadata": {},
          "output_type": "execute_result"
        }
      ]
    },
    {
      "cell_type": "code",
      "metadata": {
        "id": "vq0X_aKNVrkp"
      },
      "source": [
        "def print_progress(count, max_count):\n",
        "    pct_complete = count / max_count\n",
        "\n",
        "    msg = \"\\r- Progress: {0:.1%}\".format(pct_complete)\n",
        "\n",
        "    sys.stdout.write(msg)\n",
        "    sys.stdout.flush()"
      ],
      "execution_count": null,
      "outputs": []
    },
    {
      "cell_type": "markdown",
      "metadata": {
        "id": "ga3TvZwsVrkq"
      },
      "source": [
        "This is the function for processing the given files using the VGG16-model and returning their transfer-values."
      ]
    },
    {
      "cell_type": "code",
      "metadata": {
        "id": "dFS58OfLVrkr"
      },
      "source": [
        "def process_images(data_dir, filenames, batch_size=32):\n",
        "    num_images = len(filenames)\n",
        "\n",
        "    shape = (batch_size,) + img_size + (3,)\n",
        "    image_batch = np.zeros(shape=shape, dtype=np.float16)\n",
        "    shape = (num_images, transfer_values_size)\n",
        "    transfer_values = np.zeros(shape=shape, dtype=np.float16)\n",
        "\n",
        "    start_index = 0\n",
        "\n",
        "    while start_index < num_images:\n",
        "        print_progress(count=start_index, max_count=num_images)\n",
        "\n",
        "        end_index = start_index + batch_size\n",
        "\n",
        "        if end_index > num_images:\n",
        "            end_index = num_images\n",
        "\n",
        "        current_batch_size = end_index - start_index\n",
        "\n",
        "        for i, filename in enumerate(filenames[start_index:end_index]):\n",
        "            path = os.path.join(data_dir, filename)\n",
        "\n",
        "            img = load_image(path, size=img_size)\n",
        "            image_batch[i] = img\n",
        "\n",
        "        transfer_values_batch = \\\n",
        "            image_model_transfer.predict(image_batch[0:current_batch_size])\n",
        "\n",
        "        transfer_values[start_index:end_index] = \\\n",
        "            transfer_values_batch[0:current_batch_size]\n",
        "\n",
        "        start_index = end_index\n",
        "\n",
        "    print()\n",
        "\n",
        "    return transfer_values"
      ],
      "execution_count": null,
      "outputs": []
    },
    {
      "cell_type": "code",
      "metadata": {
        "id": "hfj_bmPlVrks"
      },
      "source": [
        "def process_images_train():\n",
        "    print(\"Processing {0} images in training-set ...\".format(len(filenames_train)))\n",
        "\n",
        "    cache_path = os.path.join(coco.data_dir,\n",
        "                              \"transfer_values_train.pkl\")\n",
        "\n",
        "    transfer_values = cache(cache_path=cache_path,\n",
        "                            fn=process_images,\n",
        "                            data_dir=coco.train_dir,\n",
        "                            filenames=filenames_train)\n",
        "\n",
        "    return transfer_values"
      ],
      "execution_count": null,
      "outputs": []
    },
    {
      "cell_type": "markdown",
      "metadata": {
        "id": "12Wus819Vrkt"
      },
      "source": [
        "Helper-function for processing all images in the validation-set."
      ]
    },
    {
      "cell_type": "code",
      "metadata": {
        "id": "LTO3TMT9Vrku"
      },
      "source": [
        "def process_images_val():\n",
        "    print(\"Processing {0} images in validation-set ...\".format(len(filenames_val)))\n",
        "\n",
        "    cache_path = os.path.join(coco.data_dir, \"transfer_values_val.pkl\")\n",
        "\n",
        "    transfer_values = cache(cache_path=cache_path,\n",
        "                            fn=process_images,\n",
        "                            data_dir=coco.val_dir,\n",
        "                            filenames=filenames_val)\n",
        "\n",
        "    return transfer_values"
      ],
      "execution_count": null,
      "outputs": []
    },
    {
      "cell_type": "code",
      "metadata": {
        "id": "7Qy4l_ijVrkv",
        "outputId": "0740bbd5-529e-443d-b4ce-69964dcc4108"
      },
      "source": [
        "%%time\n",
        "transfer_values_train = process_images_train()\n",
        "print(\"dtype:\", transfer_values_train.dtype)\n",
        "print(\"shape:\", transfer_values_train.shape)"
      ],
      "execution_count": null,
      "outputs": [
        {
          "name": "stdout",
          "output_type": "stream",
          "text": [
            "Processing 118287 images in training-set ...\n",
            "- Data loaded from cache-file: data/coco/transfer_values_train.pkl\n",
            "dtype: float16\n",
            "shape: (118287, 4096)\n",
            "CPU times: user 116 ms, sys: 256 ms, total: 372 ms\n",
            "Wall time: 365 ms\n"
          ]
        }
      ]
    },
    {
      "cell_type": "code",
      "metadata": {
        "id": "OMfI4-0PVrkw",
        "outputId": "314a45ff-797b-4a45-c14a-6963576f54a4"
      },
      "source": [
        "%%time\n",
        "transfer_values_val = process_images_val()\n",
        "print(\"dtype:\", transfer_values_val.dtype)\n",
        "print(\"shape:\", transfer_values_val.shape)"
      ],
      "execution_count": null,
      "outputs": [
        {
          "name": "stdout",
          "output_type": "stream",
          "text": [
            "Processing 5000 images in validation-set ...\n",
            "- Data loaded from cache-file: data/coco/transfer_values_val.pkl\n",
            "dtype: float16\n",
            "shape: (5000, 4096)\n",
            "CPU times: user 8 ms, sys: 8 ms, total: 16 ms\n",
            "Wall time: 16.7 ms\n"
          ]
        }
      ]
    },
    {
      "cell_type": "code",
      "metadata": {
        "id": "CyfjxRoAVrky"
      },
      "source": [
        "mark_start = 'ssss '\n",
        "mark_end = ' eeee'"
      ],
      "execution_count": null,
      "outputs": []
    },
    {
      "cell_type": "code",
      "metadata": {
        "id": "SnKHNU65Vrky"
      },
      "source": [
        "def mark_captions(captions_listlist):\n",
        "    captions_marked = [[mark_start + caption + mark_end\n",
        "                        for caption in captions_list]\n",
        "                        for captions_list in captions_listlist]\n",
        "    \n",
        "    return captions_marked"
      ],
      "execution_count": null,
      "outputs": []
    },
    {
      "cell_type": "code",
      "metadata": {
        "id": "_9mHVSafVrkz",
        "outputId": "4c54bc54-a532-4688-9b37-9fbae137b7d3"
      },
      "source": [
        "captions_train_marked = mark_captions(captions_train)\n",
        "captions_train_marked[0]"
      ],
      "execution_count": null,
      "outputs": [
        {
          "data": {
            "text/plain": [
              "['ssss Closeup of bins of food that include broccoli and bread. eeee',\n",
              " 'ssss A meal is presented in brightly colored plastic trays. eeee',\n",
              " 'ssss there are containers filled with different kinds of foods eeee',\n",
              " 'ssss Colorful dishes holding meat, vegetables, fruit, and bread. eeee',\n",
              " 'ssss A bunch of trays that have different food. eeee']"
            ]
          },
          "execution_count": 28,
          "metadata": {},
          "output_type": "execute_result"
        }
      ]
    },
    {
      "cell_type": "code",
      "metadata": {
        "id": "2QgwieJNVrk0",
        "outputId": "0ff1f069-cb93-476b-973e-62ba91b8bf8e"
      },
      "source": [
        "captions_train[0]"
      ],
      "execution_count": null,
      "outputs": [
        {
          "data": {
            "text/plain": [
              "['Closeup of bins of food that include broccoli and bread.',\n",
              " 'A meal is presented in brightly colored plastic trays.',\n",
              " 'there are containers filled with different kinds of foods',\n",
              " 'Colorful dishes holding meat, vegetables, fruit, and bread.',\n",
              " 'A bunch of trays that have different food.']"
            ]
          },
          "execution_count": 29,
          "metadata": {},
          "output_type": "execute_result"
        }
      ]
    },
    {
      "cell_type": "code",
      "metadata": {
        "id": "lGlJVBJgVrk2"
      },
      "source": [
        "def flatten(captions_listlist):\n",
        "    captions_list = [caption\n",
        "                     for captions_list in captions_listlist\n",
        "                     for caption in captions_list]\n",
        "    \n",
        "    return captions_list"
      ],
      "execution_count": null,
      "outputs": []
    },
    {
      "cell_type": "code",
      "metadata": {
        "id": "MWZZSDXAVrk3"
      },
      "source": [
        "captions_train_flat = flatten(captions_train_marked)"
      ],
      "execution_count": null,
      "outputs": []
    },
    {
      "cell_type": "code",
      "metadata": {
        "id": "P675EwhHVrk3"
      },
      "source": [
        "num_words = 10000"
      ],
      "execution_count": null,
      "outputs": []
    },
    {
      "cell_type": "code",
      "metadata": {
        "id": "HcSi2em_Vrk3"
      },
      "source": [
        "class TokenizerWrap(Tokenizer):\n",
        "    \"\"\"Wrap the Tokenizer-class from Keras with more functionality.\"\"\"\n",
        "    \n",
        "    def __init__(self, texts, num_words=None):\n",
        "        \"\"\"\n",
        "        :param texts: List of strings with the data-set.\n",
        "        :param num_words: Max number of words to use.\n",
        "        \"\"\"\n",
        "\n",
        "        Tokenizer.__init__(self, num_words=num_words)\n",
        "\n",
        "        # Create the vocabulary from the texts.\n",
        "        self.fit_on_texts(texts)\n",
        "\n",
        "        # Create inverse lookup from integer-tokens to words.\n",
        "        self.index_to_word = dict(zip(self.word_index.values(),\n",
        "                                      self.word_index.keys()))\n",
        "\n",
        "    def token_to_word(self, token):\n",
        "        \"\"\"Lookup a single word from an integer-token.\"\"\"\n",
        "\n",
        "        word = \" \" if token == 0 else self.index_to_word[token]\n",
        "        return word \n",
        "\n",
        "    def tokens_to_string(self, tokens):\n",
        "        \"\"\"Convert a list of integer-tokens to a string.\"\"\"\n",
        "\n",
        "        # Create a list of the individual words.\n",
        "        words = [self.index_to_word[token]\n",
        "                 for token in tokens\n",
        "                 if token != 0]\n",
        "        \n",
        "        # Concatenate the words to a single string\n",
        "        # with space between all the words.\n",
        "        text = \" \".join(words)\n",
        "\n",
        "        return text\n",
        "    \n",
        "    def captions_to_tokens(self, captions_listlist):\n",
        "        \"\"\"\n",
        "        Convert a list-of-list with text-captions to\n",
        "        a list-of-list of integer-tokens.\n",
        "        \"\"\"\n",
        "        \n",
        "        # Note that text_to_sequences() takes a list of texts.\n",
        "        tokens = [self.texts_to_sequences(captions_list)\n",
        "                  for captions_list in captions_listlist]\n",
        "        \n",
        "        return tokens"
      ],
      "execution_count": null,
      "outputs": []
    },
    {
      "cell_type": "code",
      "metadata": {
        "id": "a3WPFqCiVrk5",
        "outputId": "047d391c-a404-47d9-c735-80ea2f168c90"
      },
      "source": [
        "%%time\n",
        "tokenizer = TokenizerWrap(texts=captions_train_flat,\n",
        "                          num_words=num_words)"
      ],
      "execution_count": null,
      "outputs": [
        {
          "name": "stdout",
          "output_type": "stream",
          "text": [
            "CPU times: user 8.75 s, sys: 32 ms, total: 8.78 s\n",
            "Wall time: 8.7 s\n"
          ]
        }
      ]
    },
    {
      "cell_type": "code",
      "metadata": {
        "id": "jB9NhvSYVrk6",
        "outputId": "b194d94d-e8a9-49af-cf11-bbbc4a96c5c8"
      },
      "source": [
        "token_start = tokenizer.word_index[mark_start.strip()]\n",
        "token_start"
      ],
      "execution_count": null,
      "outputs": [
        {
          "data": {
            "text/plain": [
              "2"
            ]
          },
          "execution_count": 35,
          "metadata": {},
          "output_type": "execute_result"
        }
      ]
    },
    {
      "cell_type": "code",
      "metadata": {
        "id": "eEbP8ymJVrk7",
        "outputId": "0936fdda-de72-4643-f562-d918ee626486"
      },
      "source": [
        "token_end = tokenizer.word_index[mark_end.strip()]\n",
        "token_end"
      ],
      "execution_count": null,
      "outputs": [
        {
          "data": {
            "text/plain": [
              "3"
            ]
          },
          "execution_count": 36,
          "metadata": {},
          "output_type": "execute_result"
        }
      ]
    },
    {
      "cell_type": "code",
      "metadata": {
        "id": "lQvAbG21Vrk8",
        "outputId": "a0978199-1cee-4ace-8fd7-5c3467c746dd"
      },
      "source": [
        "%%time\n",
        "tokens_train = tokenizer.captions_to_tokens(captions_train_marked)"
      ],
      "execution_count": null,
      "outputs": [
        {
          "name": "stdout",
          "output_type": "stream",
          "text": [
            "CPU times: user 6.72 s, sys: 68 ms, total: 6.78 s\n",
            "Wall time: 6.72 s\n"
          ]
        }
      ]
    },
    {
      "cell_type": "code",
      "metadata": {
        "scrolled": true,
        "id": "pqTMg0nmVrk8",
        "outputId": "f8577f53-d887-4ea4-adb7-52a6dbe1efc0"
      },
      "source": [
        "tokens_train[0]"
      ],
      "execution_count": null,
      "outputs": [
        {
          "data": {
            "text/plain": [
              "[[2, 841, 5, 2864, 5, 61, 26, 1984, 238, 9, 433, 3],\n",
              " [2, 1, 429, 10, 3310, 7, 1025, 390, 501, 1110, 3],\n",
              " [2, 63, 19, 993, 143, 8, 190, 958, 5, 743, 3],\n",
              " [2, 299, 725, 25, 343, 208, 264, 9, 433, 3],\n",
              " [2, 1, 170, 5, 1110, 26, 446, 190, 61, 3]]"
            ]
          },
          "execution_count": 38,
          "metadata": {},
          "output_type": "execute_result"
        }
      ]
    },
    {
      "cell_type": "code",
      "metadata": {
        "scrolled": true,
        "id": "fFkVljnGVrk-",
        "outputId": "a966c455-eb96-494f-d2a6-8b38d769014c"
      },
      "source": [
        "captions_train_marked[0]"
      ],
      "execution_count": null,
      "outputs": [
        {
          "data": {
            "text/plain": [
              "['ssss Closeup of bins of food that include broccoli and bread. eeee',\n",
              " 'ssss A meal is presented in brightly colored plastic trays. eeee',\n",
              " 'ssss there are containers filled with different kinds of foods eeee',\n",
              " 'ssss Colorful dishes holding meat, vegetables, fruit, and bread. eeee',\n",
              " 'ssss A bunch of trays that have different food. eeee']"
            ]
          },
          "execution_count": 39,
          "metadata": {},
          "output_type": "execute_result"
        }
      ]
    },
    {
      "cell_type": "code",
      "metadata": {
        "id": "4elaIvIeVrlA"
      },
      "source": [
        "def get_random_caption_tokens(idx):\n",
        "    result = []\n",
        "\n",
        "    for i in idx:\n",
        "        j = np.random.choice(len(tokens_train[i]))\n",
        "        tokens = tokens_train[i][j]\n",
        "        result.append(tokens)\n",
        "\n",
        "    return result"
      ],
      "execution_count": null,
      "outputs": []
    },
    {
      "cell_type": "code",
      "metadata": {
        "id": "HourXcW2VrlC"
      },
      "source": [
        "def batch_generator(batch_size):\n",
        "    while True:\n",
        "        idx = np.random.randint(num_images_train,\n",
        "                                size=batch_size)\n",
        "        transfer_values = transfer_values_train[idx]\n",
        "        tokens = get_random_caption_tokens(idx)\n",
        "\n",
        "        num_tokens = [len(t) for t in tokens]\n",
        "        \n",
        "        max_tokens = np.max(num_tokens)\n",
        "        \n",
        "        tokens_padded = pad_sequences(tokens,\n",
        "                                      maxlen=max_tokens,\n",
        "                                      padding='post',\n",
        "                                      truncating='post')\n",
        "        \n",
        "        decoder_input_data = tokens_padded[:, 0:-1]\n",
        "        decoder_output_data = tokens_padded[:, 1:]\n",
        "\n",
        "        x_data = \\\n",
        "        {\n",
        "            'decoder_input': decoder_input_data,\n",
        "            'transfer_values_input': transfer_values\n",
        "        }\n",
        "\n",
        "        y_data = \\\n",
        "        {\n",
        "            'decoder_output': decoder_output_data\n",
        "        }\n",
        "        \n",
        "        yield (x_data, y_data)"
      ],
      "execution_count": null,
      "outputs": []
    },
    {
      "cell_type": "code",
      "metadata": {
        "id": "BpRTRUI-VrlD"
      },
      "source": [
        "batch_size = 1024"
      ],
      "execution_count": null,
      "outputs": []
    },
    {
      "cell_type": "code",
      "metadata": {
        "id": "go7mMaMDVrlE"
      },
      "source": [
        "generator = batch_generator(batch_size=batch_size)"
      ],
      "execution_count": null,
      "outputs": []
    },
    {
      "cell_type": "code",
      "metadata": {
        "id": "MGrSuaZhVrlF"
      },
      "source": [
        "batch = next(generator)\n",
        "batch_x = batch[0]\n",
        "batch_y = batch[1]"
      ],
      "execution_count": null,
      "outputs": []
    },
    {
      "cell_type": "code",
      "metadata": {
        "id": "TLNvzTmbVrlG",
        "outputId": "287a4a39-d0ab-48d9-a682-4ce17149d3db"
      },
      "source": [
        "batch_x['transfer_values_input'][0]"
      ],
      "execution_count": null,
      "outputs": [
        {
          "data": {
            "text/plain": [
              "array([0.    , 0.    , 1.451 , ..., 0.    , 0.    , 0.6562], dtype=float16)"
            ]
          },
          "execution_count": 45,
          "metadata": {},
          "output_type": "execute_result"
        }
      ]
    },
    {
      "cell_type": "code",
      "metadata": {
        "scrolled": true,
        "id": "rK7P83ZoVrlH",
        "outputId": "b482fa34-5656-419f-cacc-052212846cdc"
      },
      "source": [
        "batch_x['decoder_input'][0]"
      ],
      "execution_count": null,
      "outputs": [
        {
          "data": {
            "text/plain": [
              "array([  2,   1, 126,  34,   5,   1,  29,  25,   1, 247, 116,   3,   0,\n",
              "         0,   0,   0,   0,   0,   0,   0,   0,   0,   0,   0,   0,   0,\n",
              "         0,   0,   0,   0,   0,   0,   0,   0,   0,   0,   0], dtype=int32)"
            ]
          },
          "execution_count": 46,
          "metadata": {},
          "output_type": "execute_result"
        }
      ]
    },
    {
      "cell_type": "code",
      "metadata": {
        "id": "N73rNSDJVrlI",
        "outputId": "67a73b70-595a-43b7-b4dc-6cf7886a800f"
      },
      "source": [
        "batch_y['decoder_output'][0]"
      ],
      "execution_count": null,
      "outputs": [
        {
          "data": {
            "text/plain": [
              "array([  1, 126,  34,   5,   1,  29,  25,   1, 247, 116,   3,   0,   0,\n",
              "         0,   0,   0,   0,   0,   0,   0,   0,   0,   0,   0,   0,   0,\n",
              "         0,   0,   0,   0,   0,   0,   0,   0,   0,   0,   0], dtype=int32)"
            ]
          },
          "execution_count": 47,
          "metadata": {},
          "output_type": "execute_result"
        }
      ]
    },
    {
      "cell_type": "code",
      "metadata": {
        "id": "ksulZK1rVrlK"
      },
      "source": [
        "num_captions_train = [len(captions) for captions in captions_train]"
      ],
      "execution_count": null,
      "outputs": []
    },
    {
      "cell_type": "code",
      "metadata": {
        "id": "8eNebJV-VrlN"
      },
      "source": [
        "total_num_captions_train = np.sum(num_captions_train)"
      ],
      "execution_count": null,
      "outputs": []
    },
    {
      "cell_type": "code",
      "metadata": {
        "id": "6C9jARVwVrlO",
        "outputId": "206efc94-b88c-48f7-b26b-d964868dd850"
      },
      "source": [
        "steps_per_epoch = int(total_num_captions_train / batch_size)\n",
        "steps_per_epoch"
      ],
      "execution_count": null,
      "outputs": [
        {
          "data": {
            "text/plain": [
              "577"
            ]
          },
          "execution_count": 50,
          "metadata": {},
          "output_type": "execute_result"
        }
      ]
    },
    {
      "cell_type": "code",
      "metadata": {
        "id": "cmLmcHzTVrlQ"
      },
      "source": [
        "state_size = 512"
      ],
      "execution_count": null,
      "outputs": []
    },
    {
      "cell_type": "code",
      "metadata": {
        "id": "-9KZCffyVrlR"
      },
      "source": [
        "embedding_size = 128"
      ],
      "execution_count": null,
      "outputs": []
    },
    {
      "cell_type": "code",
      "metadata": {
        "id": "R4fkUpuuVrlR"
      },
      "source": [
        "transfer_values_input = Input(shape=(transfer_values_size,),\n",
        "                              name='transfer_values_input')"
      ],
      "execution_count": null,
      "outputs": []
    },
    {
      "cell_type": "code",
      "metadata": {
        "id": "kB0IvITiVrlS"
      },
      "source": [
        "decoder_transfer_map = Dense(state_size,\n",
        "                             activation='tanh',\n",
        "                             name='decoder_transfer_map')"
      ],
      "execution_count": null,
      "outputs": []
    },
    {
      "cell_type": "code",
      "metadata": {
        "id": "1c50aa_oVrlS"
      },
      "source": [
        "decoder_input = Input(shape=(None, ), name='decoder_input')"
      ],
      "execution_count": null,
      "outputs": []
    },
    {
      "cell_type": "code",
      "metadata": {
        "id": "7c2bZ8R8VrlV"
      },
      "source": [
        "decoder_embedding = Embedding(input_dim=num_words,\n",
        "                              output_dim=embedding_size,\n",
        "                              name='decoder_embedding')"
      ],
      "execution_count": null,
      "outputs": []
    },
    {
      "cell_type": "code",
      "metadata": {
        "id": "WJXjJpqNVrlW"
      },
      "source": [
        "decoder_gru1 = GRU(state_size, name='decoder_gru1',\n",
        "                   return_sequences=True)\n",
        "decoder_gru2 = GRU(state_size, name='decoder_gru2',\n",
        "                   return_sequences=True)\n",
        "decoder_gru3 = GRU(state_size, name='decoder_gru3',\n",
        "                   return_sequences=True)"
      ],
      "execution_count": null,
      "outputs": []
    },
    {
      "cell_type": "code",
      "metadata": {
        "id": "R0eApYSXVrlX"
      },
      "source": [
        "decoder_dense = Dense(num_words,\n",
        "                      activation='linear',\n",
        "                      name='decoder_output')"
      ],
      "execution_count": null,
      "outputs": []
    },
    {
      "cell_type": "code",
      "metadata": {
        "id": "bhh3tOhOVrlY"
      },
      "source": [
        "def connect_decoder(transfer_values):\n",
        "    initial_state = decoder_transfer_map(transfer_values)\n",
        "\n",
        "    net = decoder_input\n",
        "    \n",
        "    net = decoder_embedding(net)\n",
        "    net = decoder_gru1(net, initial_state=initial_state)\n",
        "    net = decoder_gru2(net, initial_state=initial_state)\n",
        "    net = decoder_gru3(net, initial_state=initial_state)\n",
        "    decoder_output = decoder_dense(net)\n",
        "    \n",
        "    return decoder_output"
      ],
      "execution_count": null,
      "outputs": []
    },
    {
      "cell_type": "code",
      "metadata": {
        "id": "wCfn2um2VrlZ"
      },
      "source": [
        "decoder_output = connect_decoder(transfer_values=transfer_values_input)\n",
        "\n",
        "decoder_model = Model(inputs=[transfer_values_input, decoder_input],\n",
        "                      outputs=[decoder_output])"
      ],
      "execution_count": null,
      "outputs": []
    },
    {
      "cell_type": "code",
      "metadata": {
        "id": "8-RXpf4RVrlb"
      },
      "source": [
        "# decoder_model.compile(optimizer=optimizer,\n",
        "#                       loss='sparse_categorical_crossentropy')"
      ],
      "execution_count": null,
      "outputs": []
    },
    {
      "cell_type": "code",
      "metadata": {
        "id": "psyBI435Vrlc"
      },
      "source": [
        "def sparse_cross_entropy(y_true, y_pred):\n",
        "\n",
        "    loss = tf.nn.sparse_softmax_cross_entropy_with_logits(labels=y_true,\n",
        "                                                          logits=y_pred)\n",
        "\n",
        "    loss_mean = tf.reduce_mean(loss)\n",
        "\n",
        "    return loss_mean"
      ],
      "execution_count": null,
      "outputs": []
    },
    {
      "cell_type": "code",
      "metadata": {
        "scrolled": true,
        "id": "_EYRCmFNVrld"
      },
      "source": [
        "optimizer = RMSprop(lr=1e-3)"
      ],
      "execution_count": null,
      "outputs": []
    },
    {
      "cell_type": "code",
      "metadata": {
        "id": "01tSFDd6Vrld"
      },
      "source": [
        "decoder_target = tf.placeholder(dtype='int32', shape=(None, None))"
      ],
      "execution_count": null,
      "outputs": []
    },
    {
      "cell_type": "code",
      "metadata": {
        "id": "JD-XQNTXVrle",
        "outputId": "a59b1cb0-7333-4773-c9ef-1f38b6661376"
      },
      "source": [
        "decoder_model.compile(optimizer=optimizer,\n",
        "                      loss=sparse_cross_entropy,\n",
        "                      target_tensors=[decoder_target])"
      ],
      "execution_count": null,
      "outputs": [
        {
          "name": "stdout",
          "output_type": "stream",
          "text": [
            "WARNING:tensorflow:From /home/magnus/anaconda3/envs/tf-gpu/lib/python3.6/site-packages/tensorflow/python/keras/_impl/keras/backend.py:1557: calling reduce_mean (from tensorflow.python.ops.math_ops) with keep_dims is deprecated and will be removed in a future version.\n",
            "Instructions for updating:\n",
            "keep_dims is deprecated, use keepdims instead\n"
          ]
        }
      ]
    },
    {
      "cell_type": "code",
      "metadata": {
        "id": "EJ0FhXABVrle"
      },
      "source": [
        "path_checkpoint = '22_checkpoint.keras'\n",
        "callback_checkpoint = ModelCheckpoint(filepath=path_checkpoint,\n",
        "                                      verbose=1,\n",
        "                                      save_weights_only=True)"
      ],
      "execution_count": null,
      "outputs": []
    },
    {
      "cell_type": "code",
      "metadata": {
        "id": "jod4Lvg9Vrlf"
      },
      "source": [
        "callback_tensorboard = TensorBoard(log_dir='./22_logs/',\n",
        "                                   histogram_freq=0,\n",
        "                                   write_graph=False)"
      ],
      "execution_count": null,
      "outputs": []
    },
    {
      "cell_type": "code",
      "metadata": {
        "id": "sp2p-preVrlf"
      },
      "source": [
        "callbacks = [callback_checkpoint, callback_tensorboard]"
      ],
      "execution_count": null,
      "outputs": []
    },
    {
      "cell_type": "code",
      "metadata": {
        "id": "gA2OJ_i4Vrlf"
      },
      "source": [
        "try:\n",
        "    decoder_model.load_weights(path_checkpoint)\n",
        "except Exception as error:\n",
        "    print(\"Error trying to load checkpoint.\")\n",
        "    print(error)"
      ],
      "execution_count": null,
      "outputs": []
    },
    {
      "cell_type": "code",
      "metadata": {
        "id": "cNPQ7MCKVrlh"
      },
      "source": [
        "%%time\n",
        "decoder_model.fit_generator(generator=generator,\n",
        "                            steps_per_epoch=steps_per_epoch,\n",
        "                            epochs=20,\n",
        "                            callbacks=callbacks)"
      ],
      "execution_count": null,
      "outputs": []
    },
    {
      "cell_type": "code",
      "metadata": {
        "id": "VzjQ4w4kVrli"
      },
      "source": [
        "def generate_caption(image_path, max_tokens=30):\n",
        "    image = load_image(image_path, size=img_size)\n",
        "    \n",
        "    image_batch = np.expand_dims(image, axis=0)\n",
        "\n",
        "    transfer_values = image_model_transfer.predict(image_batch)\n",
        "\n",
        "    shape = (1, max_tokens)\n",
        "    decoder_input_data = np.zeros(shape=shape, dtype=np.int)\n",
        "\n",
        "    token_int = token_start\n",
        "    output_text = ''\n",
        "    count_tokens = 0\n",
        "\n",
        "    while token_int != token_end and count_tokens < max_tokens:\n",
        "        decoder_input_data[0, count_tokens] = token_int\n",
        "\n",
        "        x_data = \\\n",
        "        {\n",
        "            'transfer_values_input': transfer_values,\n",
        "            'decoder_input': decoder_input_data\n",
        "        }\n",
        "\n",
        "        decoder_output = decoder_model.predict(x_data)\n",
        "        token_onehot = decoder_output[0, count_tokens, :]\n",
        "\n",
        "        token_int = np.argmax(token_onehot)\n",
        "\n",
        "        sampled_word = tokenizer.token_to_word(token_int)\n",
        "\n",
        "        output_text += \" \" + sampled_word\n",
        "\n",
        "        count_tokens += 1\n",
        "\n",
        "    output_tokens = decoder_input_data[0]\n",
        "\n",
        "    plt.imshow(image)\n",
        "    plt.show()\n",
        "    \n",
        "    print(\"Predicted caption:\")\n",
        "    print(output_text)\n",
        "    print()"
      ],
      "execution_count": null,
      "outputs": []
    },
    {
      "cell_type": "code",
      "metadata": {
        "scrolled": true,
        "colab": {
          "base_uri": "https://localhost:8080/",
          "height": 166
        },
        "id": "AnfTCSJKVrlj",
        "outputId": "9365bd76-2108-48cb-8495-e09a9ab83671"
      },
      "source": [
        "generate_caption(\"images/parrot_cropped1.jpg\")"
      ],
      "execution_count": 1,
      "outputs": [
        {
          "output_type": "error",
          "ename": "NameError",
          "evalue": "ignored",
          "traceback": [
            "\u001b[0;31m---------------------------------------------------------------------------\u001b[0m",
            "\u001b[0;31mNameError\u001b[0m                                 Traceback (most recent call last)",
            "\u001b[0;32m<ipython-input-1-3f8d80b17e58>\u001b[0m in \u001b[0;36m<module>\u001b[0;34m()\u001b[0m\n\u001b[0;32m----> 1\u001b[0;31m \u001b[0mgenerate_caption\u001b[0m\u001b[0;34m(\u001b[0m\u001b[0;34m\"images/parrot_cropped1.jpg\"\u001b[0m\u001b[0;34m)\u001b[0m\u001b[0;34m\u001b[0m\u001b[0;34m\u001b[0m\u001b[0m\n\u001b[0m",
            "\u001b[0;31mNameError\u001b[0m: name 'generate_caption' is not defined"
          ]
        }
      ]
    },
    {
      "cell_type": "code",
      "metadata": {
        "scrolled": false,
        "id": "NHkIIZbwVrlj"
      },
      "source": [
        "generate_caption(\"images/elon_musk.jpg\")"
      ],
      "execution_count": null,
      "outputs": []
    },
    {
      "cell_type": "code",
      "metadata": {
        "id": "qYmVKBMSVrll"
      },
      "source": [
        "def generate_caption_coco(idx, train=False):\n",
        "    if train:\n",
        "        data_dir = coco.train_dir\n",
        "        filename = filenames_train[idx]\n",
        "        captions = captions_train[idx]\n",
        "    else:\n",
        "        data_dir = coco.val_dir\n",
        "        filename = filenames_val[idx]\n",
        "        captions = captions_val[idx]\n",
        "\n",
        "    path = os.path.join(data_dir, filename)\n",
        "\n",
        "    generate_caption(image_path=path)\n",
        "\n",
        "    print(\"True captions:\")\n",
        "    for caption in captions:\n",
        "        print(caption)"
      ],
      "execution_count": null,
      "outputs": []
    },
    {
      "cell_type": "code",
      "metadata": {
        "scrolled": true,
        "id": "BxoVjmC8Vrlm"
      },
      "source": [
        "generate_caption_coco(idx=1, train=True)"
      ],
      "execution_count": null,
      "outputs": []
    },
    {
      "cell_type": "code",
      "metadata": {
        "id": "Gg2xDhTGVrln"
      },
      "source": [
        "generate_caption_coco(idx=10, train=True)"
      ],
      "execution_count": null,
      "outputs": []
    },
    {
      "cell_type": "code",
      "metadata": {
        "id": "A3biPOqoVrlo"
      },
      "source": [
        "generate_caption_coco(idx=1, train=False)"
      ],
      "execution_count": null,
      "outputs": []
    }
  ]
}